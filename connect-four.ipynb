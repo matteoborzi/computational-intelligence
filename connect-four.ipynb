{
 "cells": [
  {
   "cell_type": "markdown",
   "metadata": {},
   "source": [
    "Author: Matteo Borzi 280104 `<matteo.borzi@studenti.polito.it>`  \n",
    "Repository: [https://github.com/matteoborzi/computational-intelligence](https://github.com/matteoborzi/computational-intelligence)"
   ]
  },
  {
   "cell_type": "markdown",
   "metadata": {},
   "source": [
    "Original code:\n",
    ">Copyright **`(c)`** 2021 Giovanni Squillero `<squillero@polito.it>`  \n",
    ">[`https://github.com/squillero/computational-intelligence`](https://github.com/squillero/computational-intelligence)  \n",
    ">Free for personal or classroom use; see 'LICENCE.md' for details."
   ]
  },
  {
   "cell_type": "markdown",
   "metadata": {},
   "source": [
    "# Connect 4"
   ]
  },
  {
   "cell_type": "code",
   "execution_count": 13,
   "metadata": {},
   "outputs": [],
   "source": [
    "from collections import Counter\n",
    "import numpy as np"
   ]
  },
  {
   "cell_type": "code",
   "execution_count": 14,
   "metadata": {},
   "outputs": [],
   "source": [
    "NUM_COLUMNS = 7\n",
    "COLUMN_HEIGHT = 6\n",
    "FOUR = 4\n",
    "GAME_STATUS = False\n",
    "HUMAN = 1\n",
    "AI = -1\n",
    "DEPTH = 6\n",
    "PLAYERS = {1: \"Human\", -1:\"Computer\"}\n",
    "GAME_RESULT = {1: \"Human wins!\", -1: \"Computer wins!\", 0: \"No moves left\"}\n",
    "\n",
    "# Board can be initiatilized with `board = np.zeros((NUM_COLUMNS, COLUMN_HEIGHT), dtype=np.byte)`\n",
    "# Notez Bien: Connect 4 \"columns\" are actually NumPy \"rows\""
   ]
  },
  {
   "cell_type": "markdown",
   "metadata": {},
   "source": [
    "## Basic Functions"
   ]
  },
  {
   "cell_type": "code",
   "execution_count": 15,
   "metadata": {},
   "outputs": [],
   "source": [
    "def valid_moves(board):\n",
    "    \"\"\"Returns columns where a disc may be played\"\"\"\n",
    "    return [n for n in range(NUM_COLUMNS) if board[n, COLUMN_HEIGHT - 1] == 0]\n",
    "\n",
    "\n",
    "def play(board, column, player):\n",
    "    \"\"\"Updates `board` as `player` drops a disc in `column`\"\"\"\n",
    "    (index, ) = next((i for i, v in np.ndenumerate(board[column]) if v == 0))\n",
    "    board[column, index] = player\n",
    "\n",
    "\n",
    "def take_back(board, column):\n",
    "    \"\"\"Updates `board` removing top disc from `column`\"\"\"\n",
    "    (index, ) = [i for i, v in np.ndenumerate(board[column]) if v != 0][-1]\n",
    "    board[column, index] = 0\n",
    "\n",
    "\n",
    "def board_full(board):\n",
    "    return np.count_nonzero(board == 0) == 0\n",
    "\n",
    "\n",
    "def count_horizontal_seq(board, player, length=4):\n",
    "    return sum([\n",
    "        all(board[c, r] == player) for c in range(NUM_COLUMNS)\n",
    "        for r in (list(range(n, n + length))\n",
    "                  for n in range(COLUMN_HEIGHT - length + 1))\n",
    "    ])\n",
    "\n",
    "\n",
    "def count_vertical_seq(board, player, length=4):\n",
    "    return sum([\n",
    "        all(board[c, r] == player) for r in range(COLUMN_HEIGHT)\n",
    "        for c in (list(range(n, n + length))\n",
    "                  for n in range(NUM_COLUMNS - length + 1))\n",
    "    ])\n",
    "\n",
    "\n",
    "def count_diag_seq(board, player, length=4):\n",
    "    return sum([\n",
    "        np.all(board[diag] == player)\n",
    "        for diag in ((range(ro, ro + length), range(co, co + length))\n",
    "                     for ro in range(0, NUM_COLUMNS - length + 1)\n",
    "                     for co in range(0, COLUMN_HEIGHT - length + 1))\n",
    "    ])\n",
    "\n",
    "\n",
    "def count_neg_diag_seq(board, player, length=4):\n",
    "    return sum([\n",
    "        np.all(board[diag] == player)\n",
    "        for diag in ((range(ro, ro + length), range(co + length - 1, co - 1, -1))\n",
    "                     for ro in range(0, NUM_COLUMNS - length + 1)\n",
    "                     for co in range(0, COLUMN_HEIGHT - length + 1))\n",
    "    ])\n",
    "\n",
    "\n",
    "def four_in_a_row(board, player):\n",
    "    \"\"\"Checks if `player` has a 4-piece line\"\"\"\n",
    "    return (any(\n",
    "        all(board[c, r] == player) for c in range(NUM_COLUMNS)\n",
    "        for r in (list(range(n, n + FOUR))\n",
    "                  for n in range(COLUMN_HEIGHT - FOUR + 1))) or any(\n",
    "                      all(board[c, r] == player) for r in range(COLUMN_HEIGHT)\n",
    "                      for c in (list(range(n, n + FOUR))\n",
    "                                for n in range(NUM_COLUMNS - FOUR + 1)))\n",
    "            or any(\n",
    "                np.all(board[diag] == player)\n",
    "                for diag in ((range(ro, ro + FOUR), range(co, co + FOUR))\n",
    "                             for ro in range(0, NUM_COLUMNS - FOUR + 1)\n",
    "                             for co in range(0, COLUMN_HEIGHT - FOUR + 1)))\n",
    "            or any(\n",
    "                np.all(board[diag] == player)\n",
    "                for diag in ((range(ro, ro + FOUR),\n",
    "                              range(co + FOUR - 1, co - 1, -1))\n",
    "                             for ro in range(0, NUM_COLUMNS - FOUR + 1)\n",
    "                             for co in range(0, COLUMN_HEIGHT - FOUR + 1))))\n"
   ]
  },
  {
   "cell_type": "markdown",
   "metadata": {},
   "source": [
    "## Minimax with alpha-beta pruning"
   ]
  },
  {
   "cell_type": "code",
   "execution_count": 16,
   "metadata": {},
   "outputs": [],
   "source": [
    "def minmax(board):\n",
    "    valid = valid_moves(board)\n",
    "    np.random.shuffle(valid)\n",
    "    best  = valid[0]\n",
    "    best_score = float(\"-inf\")\n",
    "\n",
    "    player = AI\n",
    "    opponent = HUMAN\n",
    "\n",
    "    alpha = float(\"-inf\")\n",
    "    beta = float(\"inf\")\n",
    "  \n",
    "    for move in valid:\n",
    "        new_board = board.copy()\n",
    "        play(new_board, move, player)\n",
    "        board_score = min_beta(new_board, DEPTH, player, opponent, alpha, beta)\n",
    "        if board_score > best_score:\n",
    "            best_score = board_score\n",
    "            best = move\n",
    "    return best\n",
    "\n",
    "\n",
    "def eval_board(board):\n",
    "    if four_in_a_row(board, HUMAN):\n",
    "        # Player won\n",
    "        return 1\n",
    "    elif four_in_a_row(board, AI):\n",
    "        # Computer won\n",
    "        return -1\n",
    "    else:\n",
    "        # Not terminal\n",
    "        return 0"
   ]
  },
  {
   "cell_type": "markdown",
   "metadata": {},
   "source": [
    "### Minimize function (beta)"
   ]
  },
  {
   "cell_type": "code",
   "execution_count": null,
   "metadata": {},
   "outputs": [],
   "source": [
    "def min_beta(board, depth, player, opponent, a, b):\n",
    "    valid = []\n",
    "    for col in range(NUM_COLUMNS):\n",
    "        if col in valid_moves(board):\n",
    "            play(board, col, player)\n",
    "            valid.append(col)\n",
    "\n",
    "    if depth == 0 or len(valid) == 0 or four_in_a_row(board, player) or four_in_a_row(board, opponent):\n",
    "        return get_score(board, player)\n",
    "    \n",
    "    valid = valid_moves(board) \n",
    "    beta = b\n",
    "    \n",
    "    for move in valid:\n",
    "        board_score = float(\"inf\")\n",
    "        if a < beta:\n",
    "            new_board = board.copy()\n",
    "            play(new_board, move, player)\n",
    "            board_score = max_alpha(new_board, depth - 1, player, opponent, a, beta)\n",
    "\n",
    "        if board_score < beta:\n",
    "            beta = board_score\n",
    "    return beta"
   ]
  },
  {
   "cell_type": "markdown",
   "metadata": {},
   "source": [
    "### Maximize function (alpha)"
   ]
  },
  {
   "cell_type": "code",
   "execution_count": null,
   "metadata": {},
   "outputs": [],
   "source": [
    "def max_alpha(board, depth, player, opponent, a, b):\n",
    "    valid = []\n",
    "    for col in range(NUM_COLUMNS):\n",
    "        if col in valid_moves(board):\n",
    "            play(board, col, player)\n",
    "            valid.append(col)\n",
    "\n",
    "    if depth == 0 or len(valid) == 0 or four_in_a_row(board, opponent) or four_in_a_row(board, player):\n",
    "        return get_score(board, player)\n",
    "\n",
    "    alpha = a        \n",
    "    for move in valid:\n",
    "        board_score = float(\"-inf\")\n",
    "        if alpha < b:\n",
    "            new_board = board.copy()\n",
    "            play(new_board, move, player)\n",
    "            board_score = min_beta(new_board, depth - 1, player, opponent, alpha, b)\n",
    "\n",
    "        if board_score > alpha:\n",
    "            alpha = board_score\n",
    "    return alpha"
   ]
  },
  {
   "cell_type": "markdown",
   "metadata": {},
   "source": [
    "### Score function"
   ]
  },
  {
   "cell_type": "code",
   "execution_count": null,
   "metadata": {},
   "outputs": [],
   "source": [
    "def count(board, player, length):\n",
    "    return count_horizontal_seq(board, player, length) + count_vertical_seq(\n",
    "        board, player, length) + count_diag_seq(\n",
    "            board, player, length) + count_neg_diag_seq(board, player, length)\n",
    "\n",
    "\n",
    "def get_score(board, player):\n",
    "    opponent = player * -1\n",
    "    player_score = count(board, player, 4) * 99999 + count(board, player, 3) * 999 + count(board, player, 2) * 99\n",
    "    opponent_score =  count(board, opponent, 4) * 99999 + count(board, opponent, 3) * 999 + count(board, opponent, 2) * 99\n",
    "\n",
    "    if four_in_a_row(board, opponent):\n",
    "        return float('-inf')\n",
    "    else:\n",
    "        return player_score - opponent_score"
   ]
  },
  {
   "cell_type": "markdown",
   "metadata": {},
   "source": [
    "## Turn functions"
   ]
  },
  {
   "cell_type": "code",
   "execution_count": 17,
   "metadata": {},
   "outputs": [],
   "source": [
    "def player_turn(board):\n",
    "    move = None\n",
    "    while move is None or move not in valid_moves(board):\n",
    "        try:\n",
    "            move = int(input(f\"\\nPlayer turn. Choose a column (0-{NUM_COLUMNS-1}): \"))\n",
    "        except ValueError:\n",
    "            print(\"Please insert a integer value\")\n",
    "            continue\n",
    "        if move not in valid_moves(board):\n",
    "            print(\"Column not valid! Pleas try again\")\n",
    "    play(board, move, HUMAN)\n",
    "    print(board)       \n",
    "    return board\n",
    "    \n",
    "def AI_turn(board):\n",
    "    print(\"\\nComputer turn.\")\n",
    "    move = minmax(board)\n",
    "    play(board, move, AI)\n",
    "    print(board)\n",
    "    return board"
   ]
  },
  {
   "cell_type": "markdown",
   "metadata": {},
   "source": [
    "## Main function"
   ]
  },
  {
   "cell_type": "code",
   "execution_count": 18,
   "metadata": {},
   "outputs": [
    {
     "name": "stdout",
     "output_type": "stream",
     "text": [
      "Game starting! First player is Human\n"
     ]
    }
   ],
   "source": [
    "board = np.zeros((NUM_COLUMNS, COLUMN_HEIGHT), dtype=np.byte)\n",
    "#turns = np.random.choice([1,-1])\n",
    "turns = HUMAN\n",
    "GAME_STATUS = True\n",
    "print(f\"Game starting! First player is {PLAYERS[turns]}\")\n",
    "while True:\n",
    "    if board_full(board):\n",
    "        print(\"No moves left\")\n",
    "        break\n",
    "\n",
    "    if turns == HUMAN:\n",
    "        board = player_turn(board)\n",
    "    else:\n",
    "        board = AI_turn(board)\n",
    "\n",
    "    turn_result = eval_board(board)\n",
    "\n",
    "    if turn_result == 1:\n",
    "        print(\"Human wins!\")\n",
    "        break\n",
    "    elif turn_result == -1:\n",
    "        print(\"Computer wins!\")\n",
    "        break\n",
    "    \n",
    "    turns *= -1"
   ]
  }
 ],
 "metadata": {
  "interpreter": {
   "hash": "371627151b0642f6c185c280fa16312776bda89bbb063ce0f2d8135c657194f4"
  },
  "kernelspec": {
   "display_name": "Python 3.8.2 64-bit ('ci2021': conda)",
   "name": "python3"
  },
  "language_info": {
   "codemirror_mode": {
    "name": "ipython",
    "version": 3
   },
   "file_extension": ".py",
   "mimetype": "text/x-python",
   "name": "python",
   "nbconvert_exporter": "python",
   "pygments_lexer": "ipython3",
   "version": "3.8.10"
  },
  "orig_nbformat": 4
 },
 "nbformat": 4,
 "nbformat_minor": 2
}
